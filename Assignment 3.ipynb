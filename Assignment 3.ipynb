{
 "cells": [
  {
   "cell_type": "markdown",
   "metadata": {},
   "source": [
    "# Assignment 3 CS 598 Deep Learning"
   ]
  },
  {
   "cell_type": "markdown",
   "metadata": {},
   "source": [
    "Convolutional Neural Network"
   ]
  },
  {
   "cell_type": "code",
   "execution_count": 15,
   "metadata": {},
   "outputs": [],
   "source": [
    "import tensorflow as tf\n",
    "import tensorflow.contrib.layers as layers\n",
    "from tensorflow.examples.tutorials.mnist import input_data"
   ]
  },
  {
   "cell_type": "code",
   "execution_count": 16,
   "metadata": {},
   "outputs": [
    {
     "name": "stdout",
     "output_type": "stream",
     "text": [
      "Extracting MNIST_data/train-images-idx3-ubyte.gz\n",
      "Extracting MNIST_data/train-labels-idx1-ubyte.gz\n",
      "Extracting MNIST_data/t10k-images-idx3-ubyte.gz\n",
      "Extracting MNIST_data/t10k-labels-idx1-ubyte.gz\n"
     ]
    }
   ],
   "source": [
    "data = input_data.read_data_sets(\"MNIST_data/\", one_hot=True)"
   ]
  },
  {
   "cell_type": "code",
   "execution_count": 17,
   "metadata": {},
   "outputs": [],
   "source": [
    "batch_size = 100\n",
    "epochs = 20"
   ]
  },
  {
   "cell_type": "code",
   "execution_count": 18,
   "metadata": {},
   "outputs": [],
   "source": [
    "img = tf.placeholder(tf.float32, [batch_size, 784])\n",
    "ans = tf.placeholder(tf.float32, [batch_size, 10])"
   ]
  },
  {
   "cell_type": "code",
   "execution_count": 19,
   "metadata": {},
   "outputs": [],
   "source": [
    "#reshaping the input images\n",
    "image = tf.reshape(img, [batch_size, 28, 28, 1])\n",
    "#initializing filters\n",
    "filters = tf.Variable(tf.truncated_normal([3,3,1,32], stddev=0.1))\n",
    "#convolutional layer\n",
    "conv = tf.nn.conv2d(image, filters, [1,2,2,1], \"SAME\")\n",
    "#activation function\n",
    "conv = tf.nn.relu(conv)\n",
    "#second layer\n",
    "filters2 = tf.Variable(tf.truncated_normal([3,3,32,64], stddev=0.1))\n",
    "#second conv layer\n",
    "conv2 = tf.nn.conv2d(conv, filters2, [1,2,2,1], \"SAME\")\n",
    "conv2 = tf.reshape(conv2, [batch_size, 3136])\n",
    "#weight\n",
    "W = tf.Variable(tf.random_normal([3136,10],stddev=0.1))\n",
    "#bias\n",
    "b = tf.Variable(tf.random_normal([10], stddev=0.1))\n",
    "#softmax\n",
    "prob = tf.nn.softmax(tf.matmul(conv2, W) + b)"
   ]
  },
  {
   "cell_type": "code",
   "execution_count": 20,
   "metadata": {},
   "outputs": [],
   "source": [
    "xEnt = tf.reduce_mean(-tf.reduce_sum(ans * tf.log(prob), reduction_indices=[1]))\n",
    "train = tf.train.GradientDescentOptimizer(0.1).minimize(xEnt)\n",
    "numCorrect = tf.equal(tf.argmax(prob, 1), tf.argmax(ans, 1))\n",
    "accuracy = tf.reduce_mean(tf.cast(numCorrect, tf.float32))"
   ]
  },
  {
   "cell_type": "code",
   "execution_count": 21,
   "metadata": {},
   "outputs": [],
   "source": [
    "sess = tf.Session()\n",
    "sess.run(tf.global_variables_initializer())"
   ]
  },
  {
   "cell_type": "code",
   "execution_count": 22,
   "metadata": {},
   "outputs": [
    {
     "name": "stdout",
     "output_type": "stream",
     "text": [
      "Batch: 0, accuracy: 0.17\n",
      "Batch: 100, accuracy: 0.85\n",
      "Batch: 200, accuracy: 0.88\n",
      "Batch: 300, accuracy: 0.9\n",
      "Batch: 400, accuracy: 0.88\n",
      "Batch: 500, accuracy: 0.89\n",
      "Batch: 600, accuracy: 0.96\n",
      "Batch: 700, accuracy: 0.92\n",
      "Batch: 800, accuracy: 0.96\n",
      "Batch: 900, accuracy: 0.94\n"
     ]
    }
   ],
   "source": [
    "for i in range(1000):\n",
    "    imgs, anss = data.train.next_batch(batch_size)\n",
    "    train_accuracy, ignore = sess.run([accuracy, train], feed_dict={img:imgs, ans: anss})\n",
    "    if i % 100 == 0:\n",
    "        print(\"Batch: %r, accuracy: %r\" % (i, train_accuracy))"
   ]
  },
  {
   "cell_type": "code",
   "execution_count": 23,
   "metadata": {},
   "outputs": [
    {
     "name": "stdout",
     "output_type": "stream",
     "text": [
      "Test accuracy: 0.9493000010251998\n"
     ]
    }
   ],
   "source": [
    "sumAcc = 0\n",
    "for i in range(1000):\n",
    "    imgs, anss = data.test.next_batch(batch_size)\n",
    "    sumAcc += sess.run(accuracy, feed_dict={img: imgs, ans: anss})\n",
    "print(\"Test accuracy: %r\" % (sumAcc/1000))"
   ]
  },
  {
   "cell_type": "code",
   "execution_count": null,
   "metadata": {},
   "outputs": [],
   "source": []
  }
 ],
 "metadata": {
  "kernelspec": {
   "display_name": "Python 3",
   "language": "python",
   "name": "python3"
  },
  "language_info": {
   "codemirror_mode": {
    "name": "ipython",
    "version": 3
   },
   "file_extension": ".py",
   "mimetype": "text/x-python",
   "name": "python",
   "nbconvert_exporter": "python",
   "pygments_lexer": "ipython3",
   "version": "3.7.6"
  }
 },
 "nbformat": 4,
 "nbformat_minor": 4
}
