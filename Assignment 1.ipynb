{
 "cells": [
  {
   "cell_type": "markdown",
   "metadata": {},
   "source": [
    "# Assignment 1 CS 598 Deep Learning"
   ]
  },
  {
   "cell_type": "markdown",
   "metadata": {},
   "source": [
    "Backpropagation Neural Network"
   ]
  },
  {
   "cell_type": "code",
   "execution_count": 21,
   "metadata": {},
   "outputs": [],
   "source": [
    "from sklearn.datasets import fetch_openml\n",
    "import numpy as np"
   ]
  },
  {
   "cell_type": "markdown",
   "metadata": {},
   "source": [
    "# Dataset Description"
   ]
  },
  {
   "cell_type": "markdown",
   "metadata": {},
   "source": [
    "This dataset is fetched from the fetch_openml library which is a part of scikit learn datasets. Required normalization is performed on the dataset."
   ]
  },
  {
   "cell_type": "code",
   "execution_count": 22,
   "metadata": {},
   "outputs": [],
   "source": [
    "X, y = fetch_openml('mnist_784', version=1, return_X_y=True)\n",
    "X = X/255\n",
    "y_new = np.zeros(y.shape)\n",
    "y_new[np.where(y == 0.0)[0]] = 1\n",
    "y = y_new"
   ]
  },
  {
   "cell_type": "markdown",
   "metadata": {},
   "source": [
    "The dataset is divided into test and training set with 60000 as training set and a test set of 10000"
   ]
  },
  {
   "cell_type": "code",
   "execution_count": 23,
   "metadata": {},
   "outputs": [],
   "source": [
    "m = 60000\n",
    "m_test = X.shape[0] - m\n",
    "X_train, X_test = X[:m].T, X[m:].T\n",
    "y_train, y_test = y[:m].reshape(1, m), y[m:].reshape(1, m_test)"
   ]
  },
  {
   "cell_type": "markdown",
   "metadata": {},
   "source": [
    "sigmoid is a activation function used to predict the probabilities."
   ]
  },
  {
   "cell_type": "code",
   "execution_count": 24,
   "metadata": {},
   "outputs": [],
   "source": [
    "def sigmoid(z):\n",
    "    s = 1/(1 + np.exp(-z))\n",
    "    return s"
   ]
  },
  {
   "cell_type": "markdown",
   "metadata": {},
   "source": [
    "loss is to compute loss function"
   ]
  },
  {
   "cell_type": "code",
   "execution_count": 25,
   "metadata": {},
   "outputs": [],
   "source": [
    "def loss(y, y_hat):\n",
    "    m = y.shape[1]\n",
    "    L = -(1./m) * (np.sum(np.multiply(np.log(y_hat), y)) + np.sum(np.multiply(np.log(1-y_hat), (1-y))))\n",
    "    return L"
   ]
  },
  {
   "cell_type": "markdown",
   "metadata": {},
   "source": [
    "this is the block of code which performs necessary steps of backpropagation"
   ]
  },
  {
   "cell_type": "code",
   "execution_count": 32,
   "metadata": {},
   "outputs": [
    {
     "name": "stdout",
     "output_type": "stream",
     "text": [
      "Epoch  0 cost:  5.515148719143547 accuracy:  1.43 %\n",
      "Epoch  10 cost:  5.2961386261679 accuracy:  1.78 %\n",
      "Epoch  20 cost:  5.080470239332353 accuracy:  2.31 %\n",
      "Epoch  30 cost:  4.868508120898252 accuracy:  2.88 %\n",
      "Epoch  40 cost:  4.660623271536699 accuracy:  3.5900000000000003 %\n",
      "Epoch  50 cost:  4.457186253066892 accuracy:  4.43 %\n",
      "Epoch  60 cost:  4.258559694201159 accuracy:  5.34 %\n",
      "Epoch  70 cost:  4.065090523698757 accuracy:  6.4 %\n",
      "Epoch  80 cost:  3.8771023285210635 accuracy:  7.66 %\n",
      "Epoch  90 cost:  3.694888244728726 accuracy:  9.049999999999999 %\n",
      "Epoch  100 cost:  3.518704752613464 accuracy:  10.2 %\n",
      "Epoch  110 cost:  3.3487666719013482 accuracy:  11.700000000000001 %\n",
      "Epoch  120 cost:  3.1852435521982234 accuracy:  13.569999999999999 %\n",
      "Epoch  130 cost:  3.028257545372728 accuracy:  15.36 %\n",
      "Epoch  140 cost:  2.877882745814772 accuracy:  16.950000000000003 %\n",
      "Epoch  150 cost:  2.7341459019986565 accuracy:  19.06 %\n",
      "Epoch  160 cost:  2.597028342752713 accuracy:  21.099999999999998 %\n",
      "Epoch  170 cost:  2.466468923118681 accuracy:  23.09 %\n",
      "Epoch  180 cost:  2.342367774080765 accuracy:  25.22 %\n",
      "Epoch  190 cost:  2.2245906339857577 accuracy:  27.400000000000002 %\n",
      "Epoch  200 cost:  2.112973544401674 accuracy:  29.42 %\n",
      "Epoch  210 cost:  2.0073277076304232 accuracy:  31.69 %\n",
      "Epoch  220 cost:  1.9074443254684776 accuracy:  33.92 %\n",
      "Epoch  230 cost:  1.8130992670987054 accuracy:  35.86 %\n",
      "Epoch  240 cost:  1.7240574457440192 accuracy:  37.88 %\n",
      "Epoch  250 cost:  1.640076816331304 accuracy:  40.03 %\n",
      "Epoch  260 cost:  1.5609119375921 accuracy:  42.16 %\n",
      "Epoch  270 cost:  1.486317070010384 accuracy:  44.45 %\n",
      "Epoch  280 cost:  1.4160488047076967 accuracy:  46.28 %\n",
      "Epoch  290 cost:  1.3498682372159236 accuracy:  48.04 %\n",
      "Epoch  300 cost:  1.2875427140920992 accuracy:  49.94 %\n",
      "Epoch  310 cost:  1.2288471897923916 accuracy:  51.849999999999994 %\n",
      "Epoch  320 cost:  1.1735652366939129 accuracy:  53.49 %\n",
      "Epoch  330 cost:  1.1214897533184718 accuracy:  55.279999999999994 %\n",
      "Epoch  340 cost:  1.0724234154090138 accuracy:  56.74 %\n",
      "Epoch  350 cost:  1.0261789122556915 accuracy:  58.35 %\n",
      "Epoch  360 cost:  0.9825790072103835 accuracy:  60.029999999999994 %\n",
      "Epoch  370 cost:  0.9414564572050412 accuracy:  61.4 %\n",
      "Epoch  380 cost:  0.9026538217183502 accuracy:  62.59 %\n",
      "Epoch  390 cost:  0.8660231873165336 accuracy:  63.849999999999994 %\n",
      "Epoch  400 cost:  0.8314258298241808 accuracy:  64.98 %\n",
      "Epoch  410 cost:  0.7987318324735371 accuracy:  66.17 %\n",
      "Epoch  420 cost:  0.7678196750883474 accuracy:  67.11 %\n",
      "Epoch  430 cost:  0.7385758064914794 accuracy:  68.26 %\n",
      "Epoch  440 cost:  0.7108942098678612 accuracy:  69.23 %\n",
      "Epoch  450 cost:  0.6846759687340739 accuracy:  70.14 %\n",
      "Epoch  460 cost:  0.6598288394242054 accuracy:  71.03 %\n",
      "Epoch  470 cost:  0.6362668345572706 accuracy:  72.02 %\n",
      "Epoch  480 cost:  0.6139098207644165 accuracy:  73.28 %\n",
      "Epoch  490 cost:  0.59268313298716 accuracy:  73.99 %\n",
      "Epoch  500 cost:  0.5725172068773529 accuracy:  74.86 %\n",
      "Epoch  510 cost:  0.5533472302058223 accuracy:  75.67 %\n",
      "Epoch  520 cost:  0.5351128136938248 accuracy:  76.38000000000001 %\n",
      "Epoch  530 cost:  0.5177576812973468 accuracy:  77.16 %\n",
      "Epoch  540 cost:  0.501229379679841 accuracy:  77.75 %\n",
      "Epoch  550 cost:  0.48547900638802083 accuracy:  78.31 %\n",
      "Epoch  560 cost:  0.4704609560842267 accuracy:  78.86 %\n",
      "Epoch  570 cost:  0.45613268407608837 accuracy:  79.63 %\n",
      "Epoch  580 cost:  0.4424544863101476 accuracy:  80.31 %\n",
      "Epoch  590 cost:  0.42938929495277417 accuracy:  80.93 %\n",
      "Epoch  600 cost:  0.41690248866242635 accuracy:  81.47999999999999 %\n",
      "Epoch  610 cost:  0.4049617166566592 accuracy:  82.07 %\n",
      "Epoch  620 cost:  0.39353673569074166 accuracy:  82.54 %\n",
      "Epoch  630 cost:  0.38259925908869363 accuracy:  83.04 %\n",
      "Epoch  640 cost:  0.372122816999041 accuracy:  83.47 %\n",
      "Epoch  650 cost:  0.3620826270842366 accuracy:  83.8 %\n",
      "Epoch  660 cost:  0.35245547489267376 accuracy:  84.27 %\n",
      "Epoch  670 cost:  0.3432196032040072 accuracy:  84.57000000000001 %\n",
      "Epoch  680 cost:  0.33435460968100555 accuracy:  85.03 %\n",
      "Epoch  690 cost:  0.32584135220347343 accuracy:  85.38 %\n",
      "Epoch  700 cost:  0.3176618613012969 accuracy:  85.72999999999999 %\n",
      "Epoch  710 cost:  0.30979925914386874 accuracy:  86.05000000000001 %\n",
      "Epoch  720 cost:  0.3022376845817287 accuracy:  86.45 %\n",
      "Epoch  730 cost:  0.2949622237730022 accuracy:  86.76 %\n",
      "Epoch  740 cost:  0.28795884596196153 accuracy:  87.11 %\n",
      "Epoch  750 cost:  0.28121434400975237 accuracy:  87.44 %\n",
      "Epoch  760 cost:  0.2747162793079744 accuracy:  87.75 %\n",
      "Epoch  770 cost:  0.26845293073441895 accuracy:  88.12 %\n",
      "Epoch  780 cost:  0.2624132473369106 accuracy:  88.41 %\n",
      "Epoch  790 cost:  0.2565868044559134 accuracy:  88.71 %\n",
      "Epoch  800 cost:  0.2509637630194851 accuracy:  88.99000000000001 %\n",
      "Epoch  810 cost:  0.24553483176533378 accuracy:  89.17 %\n",
      "Epoch  820 cost:  0.2402912321642966 accuracy:  89.37 %\n",
      "Epoch  830 cost:  0.2352246658375926 accuracy:  89.57000000000001 %\n",
      "Epoch  840 cost:  0.2303272842768184 accuracy:  89.89 %\n",
      "Epoch  850 cost:  0.22559166069094172 accuracy:  90.21000000000001 %\n",
      "Epoch  860 cost:  0.22101076381861623 accuracy:  90.45 %\n",
      "Epoch  870 cost:  0.21657793355706484 accuracy:  90.69 %\n",
      "Epoch  880 cost:  0.21228685827065455 accuracy:  90.94 %\n",
      "Epoch  890 cost:  0.20813155365320002 accuracy:  91.10000000000001 %\n",
      "Epoch  900 cost:  0.2041063430280438 accuracy:  91.28 %\n",
      "Epoch  910 cost:  0.20020583897915933 accuracy:  91.53 %\n",
      "Epoch  920 cost:  0.1964249262149703 accuracy:  91.64 %\n",
      "Epoch  930 cost:  0.19275874557431766 accuracy:  91.77 %\n",
      "Epoch  940 cost:  0.1892026790911334 accuracy:  91.99000000000001 %\n",
      "Epoch  950 cost:  0.18575233604089758 accuracy:  92.17 %\n",
      "Epoch  960 cost:  0.18240353989796068 accuracy:  92.34 %\n",
      "Epoch  970 cost:  0.17915231613831242 accuracy:  92.51 %\n",
      "Epoch  980 cost:  0.17599488082743805 accuracy:  92.66 %\n",
      "Epoch  990 cost:  0.1729276299375452 accuracy:  92.83 %\n",
      "Final cost: 0.1702413701537656 final accuracy:  92.96 %\n"
     ]
    }
   ],
   "source": [
    "learning_rate = 0.001\n",
    "X = X_train\n",
    "Y = y_train\n",
    "n_x = X.shape[0]\n",
    "n_h = 64\n",
    "\n",
    "w1 = np.random.randn(n_h, n_x)\n",
    "b1 = np.zeros((n_h, 1))\n",
    "w2 = np.random.randn(1, n_h)\n",
    "b2 = np.zeros((1, 1))\n",
    "\n",
    "for i in range(1000):\n",
    "    z1 = np.matmul(w1, X) + b1\n",
    "    A1 = sigmoid(z1)\n",
    "    z2 = np.matmul(w2, A1) + b2\n",
    "    A2 = sigmoid(z2)\n",
    "    \n",
    "    cost = loss(Y, A2)\n",
    "    \n",
    "    dz2 = A2-Y\n",
    "    dw2 = (1./m) * np.matmul(dz2, A1.T)\n",
    "    db2 = (1./m) * np.sum(dz2, axis=1, keepdims=True)\n",
    "    \n",
    "    dA1 = np.matmul(w2.T, dz2)\n",
    "    dz1 = dA1 * sigmoid(z1) * (1-sigmoid(z1))\n",
    "    dw1 = (1./m) * np.matmul(dz1, X.T)\n",
    "    db1 = (1./m) * np.sum(dz1, axis=1, keepdims=True)\n",
    "    \n",
    "    w2 = w2 - learning_rate * dw2\n",
    "    b2 = b2 - learning_rate * db2\n",
    "    w1 = w1 - learning_rate * dw1\n",
    "    b1 = b1 - learning_rate * db1\n",
    "    \n",
    "    z1 = np.matmul(w1, X_test) + b1\n",
    "    A1 = sigmoid(z1)\n",
    "    z2 = np.matmul(w2, A1) + b2\n",
    "    A2 = sigmoid(z2)\n",
    "\n",
    "    predict = (A2>.5)[0,:]\n",
    "    labels = (y_test == 1)[0, :]\n",
    "\n",
    "    diff = np.equal(predict, labels)\n",
    "    accuracy = np.count_nonzero(diff) / diff.shape[0]\n",
    "#     print(accuracy)\n",
    "    \n",
    "    if i%10 == 0:\n",
    "        print(\"Epoch \", i, \"cost: \", cost, \"accuracy: \", accuracy*100, '%')\n",
    "        \n",
    "    if accuracy > 0.94:\n",
    "        break\n",
    "        \n",
    "print('Final cost:', cost, 'final accuracy: ', accuracy*100, '%')"
   ]
  }
 ],
 "metadata": {
  "kernelspec": {
   "display_name": "Python 3",
   "language": "python",
   "name": "python3"
  },
  "language_info": {
   "codemirror_mode": {
    "name": "ipython",
    "version": 3
   },
   "file_extension": ".py",
   "mimetype": "text/x-python",
   "name": "python",
   "nbconvert_exporter": "python",
   "pygments_lexer": "ipython3",
   "version": "3.7.6"
  }
 },
 "nbformat": 4,
 "nbformat_minor": 4
}
